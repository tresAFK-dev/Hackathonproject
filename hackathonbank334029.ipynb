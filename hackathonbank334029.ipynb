{
 "cells": [
  {
   "cell_type": "code",
   "execution_count": 8,
   "id": "f1db80e2-2fa5-4237-9984-02f77d887bc7",
   "metadata": {},
   "outputs": [
    {
     "name": "stdout",
     "output_type": "stream",
     "text": [
      "Welcome to Meezan Bank\n",
      "1. Sign up\n",
      "2. Log in\n",
      "3. Login as Admin\n",
      "4. Exit\n"
     ]
    },
    {
     "name": "stdin",
     "output_type": "stream",
     "text": [
      "Choose an option:  1\n",
      "Enter first name:  t\n",
      "Enter last name:  t\n",
      "Enter CNIC:  t\n",
      "Enter email:  t\n",
      "Create a username:  t\n",
      " Create a password:  tt\n",
      "Confirm password:  tt\n"
     ]
    },
    {
     "name": "stdout",
     "output_type": "stream",
     "text": [
      "User  t signed up successfully!\n",
      "Welcome to Meezan Bank\n",
      "1. Sign up\n",
      "2. Log in\n",
      "3. Login as Admin\n",
      "4. Exit\n"
     ]
    },
    {
     "name": "stdin",
     "output_type": "stream",
     "text": [
      "Choose an option:  2\n",
      "Enter your username:  t\n",
      "Enter your password:  tt\n"
     ]
    },
    {
     "name": "stdout",
     "output_type": "stream",
     "text": [
      "User  t logged in successfully!\n",
      "1. View Account info\n",
      "2. View account credentials\n",
      "3. Deposit money\n",
      "4. Withdraw money\n",
      "5. Transfer money\n",
      "6. View transaction history\n",
      "7. Save Transactions\n",
      "8. Log out\n"
     ]
    },
    {
     "name": "stdin",
     "output_type": "stream",
     "text": [
      "Choose an option:  7\n"
     ]
    },
    {
     "name": "stdout",
     "output_type": "stream",
     "text": [
      "Transaction history saved.\n",
      "1. View Account info\n",
      "2. View account credentials\n",
      "3. Deposit money\n",
      "4. Withdraw money\n",
      "5. Transfer money\n",
      "6. View transaction history\n",
      "7. Save Transactions\n",
      "8. Log out\n"
     ]
    },
    {
     "name": "stdin",
     "output_type": "stream",
     "text": [
      "Choose an option:  3\n",
      "Enter your amount:  400\n"
     ]
    },
    {
     "name": "stdout",
     "output_type": "stream",
     "text": [
      "Deposited $400.0 at Thu Jan  9 18:20:43 2025\n",
      "1. View Account info\n",
      "2. View account credentials\n",
      "3. Deposit money\n",
      "4. Withdraw money\n",
      "5. Transfer money\n",
      "6. View transaction history\n",
      "7. Save Transactions\n",
      "8. Log out\n"
     ]
    },
    {
     "name": "stdin",
     "output_type": "stream",
     "text": [
      "Choose an option:  7\n"
     ]
    },
    {
     "name": "stdout",
     "output_type": "stream",
     "text": [
      "Transaction history saved.\n",
      "1. View Account info\n",
      "2. View account credentials\n",
      "3. Deposit money\n",
      "4. Withdraw money\n",
      "5. Transfer money\n",
      "6. View transaction history\n",
      "7. Save Transactions\n",
      "8. Log out\n"
     ]
    },
    {
     "name": "stdin",
     "output_type": "stream",
     "text": [
      "Choose an option:  8\n"
     ]
    },
    {
     "name": "stdout",
     "output_type": "stream",
     "text": [
      "User    t logged out!\n",
      "Welcome to Meezan Bank\n",
      "1. Sign up\n",
      "2. Log in\n",
      "3. Login as Admin\n",
      "4. Exit\n"
     ]
    },
    {
     "name": "stdin",
     "output_type": "stream",
     "text": [
      "Choose an option:  3\n",
      "Please enter your username Admin:  Affantsf\n",
      "Please enter your password Admin:  Affan_123\n"
     ]
    },
    {
     "name": "stdout",
     "output_type": "stream",
     "text": [
      "Admin MR.Affan logged in successfully\n",
      "Welcome Admin Mr. Affan\n",
      "1. Get Total list of users\n",
      "2. Check Total deposits\n",
      "3. See total number of users\n",
      "4. Log out\n"
     ]
    },
    {
     "name": "stdin",
     "output_type": "stream",
     "text": [
      "Choose an option:  2\n"
     ]
    },
    {
     "name": "stdout",
     "output_type": "stream",
     "text": [
      "All Deposits:\n",
      "t: Deposited $400.0 at Thu Jan  9 18:20:43 2025\n",
      "Welcome Admin Mr. Affan\n",
      "1. Get Total list of users\n",
      "2. Check Total deposits\n",
      "3. See total number of users\n",
      "4. Log out\n"
     ]
    },
    {
     "name": "stdin",
     "output_type": "stream",
     "text": [
      "Choose an option:  3\n"
     ]
    },
    {
     "name": "stdout",
     "output_type": "stream",
     "text": [
      "Total number of users: 1\n",
      "Welcome Admin Mr. Affan\n",
      "1. Get Total list of users\n",
      "2. Check Total deposits\n",
      "3. See total number of users\n",
      "4. Log out\n"
     ]
    },
    {
     "name": "stdin",
     "output_type": "stream",
     "text": [
      "Choose an option:  1\n"
     ]
    },
    {
     "name": "stdout",
     "output_type": "stream",
     "text": [
      "List of Users:\n",
      "t\n",
      "Welcome Admin Mr. Affan\n",
      "1. Get Total list of users\n",
      "2. Check Total deposits\n",
      "3. See total number of users\n",
      "4. Log out\n"
     ]
    },
    {
     "name": "stdin",
     "output_type": "stream",
     "text": [
      "Choose an option:  4\n"
     ]
    },
    {
     "name": "stdout",
     "output_type": "stream",
     "text": [
      "MR.Affan Logged out successfully\n",
      "Welcome to Meezan Bank\n",
      "1. Sign up\n",
      "2. Log in\n",
      "3. Login as Admin\n",
      "4. Exit\n"
     ]
    },
    {
     "name": "stdin",
     "output_type": "stream",
     "text": [
      "Choose an option:  4\n"
     ]
    },
    {
     "name": "stdout",
     "output_type": "stream",
     "text": [
      "Exiting the app, Goodbye!\n"
     ]
    }
   ],
   "source": [
    "#### import time\n",
    "import json\n",
    "\n",
    "class User:\n",
    "    def __init__(self, first_name, last_name, cnic, email, username, password):\n",
    "        self.__first_name__ = first_name\n",
    "        self.__last_name__ = last_name\n",
    "        self.__cnic__ = cnic\n",
    "        self.__email__ = email\n",
    "        self.username = username\n",
    "        self.__password__ = password\n",
    "        self.balance = 0.0\n",
    "        self.accountnumber = f\"ACC{username}{cnic[-4:]}\"\n",
    "        self.transactionhistory = []\n",
    "\n",
    "    def deposit(self, amount):\n",
    "        self.balance += amount\n",
    "        print(f\"Deposited ${amount} at {time.asctime()}\")\n",
    "        self.transactionhistory.append(f\"Deposited ${amount} at {time.asctime()}\")\n",
    "\n",
    "    def withdraw(self, amount):\n",
    "        if amount > self.balance:\n",
    "            print(\"Insufficient Funds!\")\n",
    "        else:\n",
    "            self.balance -= amount\n",
    "            print(f\"Withdrew ${amount} at {time.asctime()}\")\n",
    "            self.transactionhistory.append(f\"Withdrew ${amount} at {time.asctime()}\")\n",
    "\n",
    "    def transfer(self, amount, recipient):\n",
    "        if amount > self.balance:\n",
    "            print(\"Insufficient Funds\")\n",
    "        else:\n",
    "            self.balance -= amount\n",
    "            recipient.balance += amount\n",
    "            print(f\"Transferred ${amount} to {recipient.username} at {time.asctime()}\")\n",
    "            self.transactionhistory.append(f\"Transferred ${amount} to {recipient.username} at {time.asctime()}\")\n",
    "            recipient.transactionhistory.append(f\"Received ${amount} from {self.username} at {time.asctime()}\")\n",
    "\n",
    "    def save_transaction_history(self):\n",
    "        with open(f\"{self.username}_transaction_history.json\", \"w\") as file:\n",
    "            json.dump(self.transactionhistory, file)\n",
    "\n",
    "    def get_credentials(self):\n",
    "        return {\n",
    "            \"username\": self.username,\n",
    "            \"password\": self.__password__,\n",
    "            \"First name\": self.__first_name__,\n",
    "            \"Last name\": self.__last_name__,\n",
    "        }\n",
    "\n",
    "    def get_account_info(self):\n",
    "        return {\n",
    "            \"Username\": self.username,\n",
    "            \"Account Number\": self.accountnumber,\n",
    "            \"Current Balance\": self.balance,\n",
    "            \"Transaction history\": self.transactionhistory,\n",
    "        }\n",
    "\n",
    "class Admin:\n",
    "    def __init__(self):\n",
    "        self.usernameadmin = \"Affantsf\"\n",
    "        self.passwordadmin = \"Affan_123\"\n",
    "        self.totaldeposits = []\n",
    "\n",
    "    def get_list_of_users(self, users):\n",
    "        return [user.username for user in users.values()]\n",
    "\n",
    "    def view_transaction_history(self, users):\n",
    "        all_deposits = []\n",
    "        for user in users.values():\n",
    "            for transaction in user.transactionhistory:\n",
    "                if \"Deposited\" in transaction:\n",
    "                    all_deposits.append(f\"{user.username}: {transaction}\")\n",
    "        return all_deposits\n",
    "\n",
    "    def total_number(self, users):\n",
    "        return len(users)\n",
    "\n",
    "class BankingApp:\n",
    "    def __init__(self):\n",
    "        self.users = {}\n",
    "        self.admin = Admin()\n",
    "\n",
    "    def signup(self, first_name, last_name, cnic, email, username, password):\n",
    "        if username in self.users:\n",
    "            print(\"Username already exists\")\n",
    "            return None\n",
    "        else:\n",
    "            user = User(first_name, last_name, cnic, email, username, password)\n",
    "            self.users[username] = user\n",
    "            print(f\"User  {username} signed up successfully!\")\n",
    "            return user\n",
    "\n",
    "    def login(self, username, password):\n",
    "        user = self.users.get(username)\n",
    "        if user and user.__password__ == password:\n",
    "            print(f\"User  {username} logged in successfully!\")\n",
    "            return user\n",
    "        else:\n",
    "            print(\"Incorrect username or password, Try Again!\")\n",
    "            return None\n",
    "\n",
    "    def adminlogin(self, adminuser, adminpass):\n",
    "        if self.admin.usernameadmin == adminuser and self.admin.passwordadmin == adminpass:\n",
    "            print(f\"Admin MR.Affan logged in successfully\")\n",
    "            return self.admin\n",
    "        else:\n",
    "            print(\"Incorrect admin credentials\")\n",
    "            return None\n",
    "\n",
    "def main():\n",
    "    app = BankingApp()\n",
    "\n",
    "    while True:\n",
    "        print(\"Welcome to Meezan Bank\")\n",
    "        print(\"1. Sign up\")\n",
    "        print(\"2. Log in\")\n",
    "        print(\"3. Login as Admin\")\n",
    "        print(\"4. Exit\")\n",
    "        choice = input(\"Choose an option: \")\n",
    "\n",
    "        if choice == '1':\n",
    "            first_name = input(\"Enter first name: \")\n",
    "            last_name = input(\"Enter last name: \")\n",
    "            cnic = input(\"Enter CNIC: \")\n",
    "            email = input(\"Enter email: \")\n",
    "            username = input(\"Create a username: \")\n",
    "            password = input(\" Create a password: \")\n",
    "            pass2 = input(\"Confirm password: \")\n",
    "            if password == pass2:\n",
    "                app.signup(first_name, last_name, cnic, email, username, password)\n",
    "            else:\n",
    "                print(\"Passwords do not match\")\n",
    "\n",
    "        elif choice == '2':\n",
    "            username = input(\"Enter your username: \")\n",
    "            password = input(\"Enter your password: \")\n",
    "            user = app.login(username, password)\n",
    "\n",
    "            if user:\n",
    "                while True:\n",
    "                    print(\"1. View Account info\")\n",
    "                    print(\"2. View account credentials\")\n",
    "                    print(\"3. Deposit money\")\n",
    "                    print(\"4. Withdraw money\")\n",
    "                    print(\"5. Transfer money\")\n",
    "                    print(\"6. View transaction history\")\n",
    "                    print(\"7. Save Transactions\")\n",
    "                    print(\"8. Log out\")\n",
    "                    choice = input(\"Choose an option: \")\n",
    "\n",
    "                    if choice == '1':\n",
    "                        info = user.get_account_info()\n",
    "                        print(f\"Username: {info['Username']}\")\n",
    "                        print(f\"Account Number: {info['Account Number']}\")\n",
    "                        print(f\"Available Balance: ${info['Current Balance']}\")\n",
    "                        print(\"Transaction History:\")\n",
    "                        for transaction in info['Transaction history']:\n",
    "                            print(transaction)\n",
    "                    elif choice == '2':\n",
    "                        credentials = user.get_credentials()\n",
    "                        print(credentials)\n",
    "                    elif choice == '3':\n",
    "                        amount = float(input(\"Enter your amount: \"))\n",
    "                        user.deposit(amount)\n",
    "                        \n",
    "                    elif choice == '4':\n",
    "                        amount = float(input(\"Enter your amount: \"))\n",
    "                        user.withdraw(amount)\n",
    "                    elif choice == '5':\n",
    "                        print(\"Available users to transfer:\")\n",
    "                        for u in app.admin.get_list_of_users(app.users):\n",
    "                            if u != user.username:\n",
    "                                print(u)\n",
    "                        recipient_username = input(\"Enter recipient username: \")\n",
    "                        recipient = app.users.get(recipient_username)\n",
    "                        if recipient:\n",
    "                            amount = float(input(\"Enter amount to transfer: \"))\n",
    "                            user.transfer(amount, recipient)\n",
    "                        else:\n",
    "                            print(\"Recipient not found!\")\n",
    "                    elif choice == '6':\n",
    "                        print(\"Transaction History:\")\n",
    "                        for transaction in user.transactionhistory:\n",
    "                            print(transaction)\n",
    "                    elif choice == '7':\n",
    "                        user.save_transaction_history()\n",
    "                        print(\"Transaction history saved.\")\n",
    "                    elif choice == '8':\n",
    "                        print(f\"User    {user.username} logged out!\")\n",
    "                        break\n",
    "                    else:\n",
    "                        print(\"Invalid choice\")\n",
    "\n",
    "        elif choice == '3':\n",
    "            adminuser = input(\"Please enter your username Admin: \")\n",
    "            adminpass = input(\"Please enter your password Admin: \")\n",
    "            admin = app.adminlogin(adminuser, adminpass)\n",
    "\n",
    "            if admin:\n",
    "                while True:\n",
    "                    print(\"Welcome Admin Mr. Affan\")\n",
    "                    print(\"1. Get Total list of users\")\n",
    "                    print(\"2. Check Total deposits\")\n",
    "                    print(\"3. See total number of users\")\n",
    "                    print(\"4. Log out\")\n",
    "                    choice = input(\"Choose an option: \")\n",
    "                    if choice == '1':\n",
    "                        users = admin.get_list_of_users(app.users)\n",
    "                        print(\"List of Users:\")\n",
    "                        for user in users:\n",
    "                            print(user)\n",
    "                    elif choice == '2':\n",
    "                        deposits = admin.view_transaction_history(app.users)\n",
    "                        print(\"All Deposits:\")\n",
    "                        for deposit in deposits:\n",
    "                            print(deposit)\n",
    "                    elif choice == '3':\n",
    "                        total_users = admin.total_number(app.users)\n",
    "                        print(f\"Total number of users: {total_users}\")\n",
    "                    elif choice == '4':\n",
    "                        print(f\"MR.Affan Logged out successfully\")\n",
    "                        break\n",
    "                    else:\n",
    "                        print(\"Invalid choice\")\n",
    "\n",
    "        elif choice == '4':\n",
    "            print(\"Exiting the app, Goodbye!\")\n",
    "            break\n",
    "        else:\n",
    "            print(\"Invalid Choice\")\n",
    "\n",
    "main()"
   ]
  },
  {
   "cell_type": "code",
   "execution_count": null,
   "id": "11bd4949-f956-4aac-9796-1c23cd93adff",
   "metadata": {},
   "outputs": [],
   "source": []
  }
 ],
 "metadata": {
  "kernelspec": {
   "display_name": "Python 3 (ipykernel)",
   "language": "python",
   "name": "python3"
  },
  "language_info": {
   "codemirror_mode": {
    "name": "ipython",
    "version": 3
   },
   "file_extension": ".py",
   "mimetype": "text/x-python",
   "name": "python",
   "nbconvert_exporter": "python",
   "pygments_lexer": "ipython3",
   "version": "3.12.7"
  }
 },
 "nbformat": 4,
 "nbformat_minor": 5
}
